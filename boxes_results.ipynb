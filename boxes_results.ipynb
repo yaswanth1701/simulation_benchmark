{
 "cells": [
  {
   "cell_type": "markdown",
   "id": "615b0b47",
   "metadata": {},
   "source": [
    "# Boxes: a benchmark for free-floating rigid bodies\n",
    "\n",
    "This test simulates free-floating rigid bodies with and without gravity and verifies that their response matches the predicted analytical solutions.\n",
    "\n",
    "The relevant physical principles are momentum conservation\n",
    "and the rotational stability of rigid bodies, sometimes referred to as the\n",
    "[tennis racket theorem](https://en.wikipedia.org/wiki/Tennis_racket_theorem)\n",
    "or the Dzhanibekov effect.\n",
    "Depending on the shape of an object, it may have unstable rotations\n",
    "about a particular axis, which causes tumbling\n",
    "([excellent video here](https://www.youtube.com/watch?v=L2o9eBl_Gzw)).\n",
    "\n",
    "Two scenarios are chosen in this benchmark to represent simple and complex trajectories.\n",
    "The \"simple\" scenario has no gravity and stable rotations,\n",
    "and the \"complex\" scenario has gravity and unstable rotations.\n",
    "\n",
    "## Simple scenario\n",
    "\n",
    "Without gravity, the linear momentum of the rigid body remains constant.\n",
    "The expected trajectory of the center of mass is to follow a straight line\n",
    "with constant velocity.\n",
    "Additionally, the initial angular velocity is aligned with a stable\n",
    "axis of rotation.\n",
    "In addition to constant angular momentum, the angular velocity should be constant,\n",
    "and the cumulative rotation angle will vary linearly with time.\n",
    "\n",
    "![Simple scenario animation with 5 boxes](img/boxes_5_simple.gif)\n",
    "\n",
    "## Complex scenario\n",
    "\n",
    "With gravity, the linear momentum changes linearly with time.\n",
    "The expected trajectory of the center of mass is parabolic.\n",
    "Additionally, the initial angular velocity is slightly mis-aligned\n",
    "from the unstable axis of rotation.\n",
    "Since no external torques act, the angular momentum  will remain constant,\n",
    "though that manifests in a tumbling angular velocity.\n",
    "\n",
    "![Complex scenario animation with 5 boxes](img/boxes_5_complex.gif)\n"
   ]
  },
  {
   "cell_type": "markdown",
   "id": "2d33ed1d",
   "metadata": {},
   "source": [
    "## Physics engine comparison\n"
   ]
  },
  {
   "cell_type": "code",
   "execution_count": 10,
   "id": "6ecac817",
   "metadata": {},
   "outputs": [],
   "source": [
    "import sys\n",
    "import os\n",
    "import matplotlib as mpl\n",
    "import matplotlib.pyplot as plt\n",
    "%matplotlib inline\n",
    "%config InlineBackend.figure_format = 'png'\n",
    "mpl.rcParams.update({'font.size': 16})\n",
    "path = os.path.abspath(\"tools\")\n",
    "sys.path.append(path)\n",
    "import csv_dictionary\n",
    "from boxes import plot_helpers as ph"
   ]
  },
  {
   "cell_type": "code",
   "execution_count": 11,
   "id": "7eb67c50",
   "metadata": {},
   "outputs": [
    {
     "name": "stdout",
     "output_type": "stream",
     "text": [
      "dict_keys(['angMomentum0', 'angMomentumErr_maxAbs', 'angPositionErr_x_maxAbs', 'angPositionErr_y_maxAbs', 'angPositionErr_z_maxAbs', 'collision', 'dt', 'energyError_maxAbs', 'engine', 'isComplex', 'linPositionErr_maxAbs', 'linVelocityErr_maxAbs', 'modelCount', 'simTime', 'time', 'timeRatio', 'classname', None])\n",
      "{'DtSimple', 'DtComplex'}\n"
     ]
    }
   ],
   "source": [
    "boxes_dt = csv_dictionary.makeCsvDictOfArrays('test_results/BENCHMARK_boxes_dt_TEST.csv')\n",
    "print(boxes_dt.keys())\n",
    "print(set(boxes_dt['classname']))"
   ]
  },
  {
   "cell_type": "code",
   "execution_count": 12,
   "id": "79dba544",
   "metadata": {},
   "outputs": [
    {
     "ename": "IndexError",
     "evalue": "arrays used as indices must be of integer (or boolean) type",
     "output_type": "error",
     "traceback": [
      "\u001b[0;31m---------------------------------------------------------------------------\u001b[0m",
      "\u001b[0;31mIndexError\u001b[0m                                Traceback (most recent call last)",
      "Cell \u001b[0;32mIn[12], line 1\u001b[0m\n\u001b[0;32m----> 1\u001b[0m \u001b[43mph\u001b[49m\u001b[38;5;241;43m.\u001b[39;49m\u001b[43mplot3TimeDt\u001b[49m\u001b[43m(\u001b[49m\u001b[43m{\u001b[49m\u001b[38;5;124;43m'\u001b[39;49m\u001b[38;5;124;43mclassname\u001b[39;49m\u001b[38;5;124;43m'\u001b[39;49m\u001b[43m:\u001b[49m\u001b[43m \u001b[49m\u001b[38;5;124;43m'\u001b[39;49m\u001b[38;5;124;43mBENCHMARK_boxes_dt_TEST\u001b[39;49m\u001b[38;5;124;43m'\u001b[39;49m\u001b[43m}\u001b[49m\n\u001b[1;32m      2\u001b[0m \u001b[43m          \u001b[49m\u001b[43m,\u001b[49m\u001b[43m \u001b[49m\u001b[43mcsvDict\u001b[49m\u001b[38;5;241;43m=\u001b[39;49m\u001b[43mboxes_dt\u001b[49m\n\u001b[1;32m      3\u001b[0m \u001b[43m          \u001b[49m\u001b[43m,\u001b[49m\u001b[43m \u001b[49m\u001b[43myname\u001b[49m\u001b[38;5;241;43m=\u001b[39;49m\u001b[38;5;124;43m'\u001b[39;49m\u001b[38;5;124;43mlinPositionErr_maxAbs\u001b[39;49m\u001b[38;5;124;43m'\u001b[39;49m\n\u001b[1;32m      4\u001b[0m \u001b[43m          \u001b[49m\u001b[43m,\u001b[49m\u001b[43m \u001b[49m\u001b[43mtitle\u001b[49m\u001b[38;5;241;43m=\u001b[39;49m\u001b[38;5;124;43m'\u001b[39;49m\u001b[38;5;124;43mParabolic position error\u001b[39;49m\u001b[38;5;124;43m'\u001b[39;49m\n\u001b[1;32m      5\u001b[0m \u001b[43m          \u001b[49m\u001b[43m)\u001b[49m\n",
      "File \u001b[0;32m~/simulation_benchmark/tools/boxes/plot_helpers.py:160\u001b[0m, in \u001b[0;36mplot3TimeDt\u001b[0;34m(params, csvDict, yname, title, skipDart, xscale, yscale)\u001b[0m\n\u001b[1;32m    152\u001b[0m \u001b[38;5;28;01mdef\u001b[39;00m \u001b[38;5;21mplot3TimeDt\u001b[39m(params\n\u001b[1;32m    153\u001b[0m                 , csvDict\u001b[38;5;241m=\u001b[39mboxes\n\u001b[1;32m    154\u001b[0m                 , yname\u001b[38;5;241m=\u001b[39m\u001b[38;5;124m'\u001b[39m\u001b[38;5;124mlinPositionErr_maxAbs\u001b[39m\u001b[38;5;124m'\u001b[39m\n\u001b[0;32m   (...)\u001b[0m\n\u001b[1;32m    158\u001b[0m                 , yscale\u001b[38;5;241m=\u001b[39m\u001b[38;5;124m'\u001b[39m\u001b[38;5;124mlinear\u001b[39m\u001b[38;5;124m'\u001b[39m\n\u001b[1;32m    159\u001b[0m                 ):\n\u001b[0;32m--> 160\u001b[0m     \u001b[43mplotEnginesDt\u001b[49m\u001b[43m(\u001b[49m\u001b[43mparams\u001b[49m\n\u001b[1;32m    161\u001b[0m \u001b[43m                \u001b[49m\u001b[43m,\u001b[49m\u001b[43m \u001b[49m\u001b[43mcsvDict\u001b[49m\u001b[38;5;241;43m=\u001b[39;49m\u001b[43mcsvDict\u001b[49m\n\u001b[1;32m    162\u001b[0m \u001b[43m                \u001b[49m\u001b[43m,\u001b[49m\u001b[43m \u001b[49m\u001b[43myname\u001b[49m\u001b[38;5;241;43m=\u001b[39;49m\u001b[43myname\u001b[49m\n\u001b[1;32m    163\u001b[0m \u001b[43m                \u001b[49m\u001b[43m,\u001b[49m\u001b[43m \u001b[49m\u001b[43mtitle\u001b[49m\u001b[38;5;241;43m=\u001b[39;49m\u001b[43mtitle\u001b[49m\n\u001b[1;32m    164\u001b[0m \u001b[43m                \u001b[49m\u001b[43m,\u001b[49m\u001b[43m \u001b[49m\u001b[43mxscale\u001b[49m\u001b[38;5;241;43m=\u001b[39;49m\u001b[43mxscale\u001b[49m\n\u001b[1;32m    165\u001b[0m \u001b[43m                \u001b[49m\u001b[43m,\u001b[49m\u001b[43m \u001b[49m\u001b[43myscale\u001b[49m\u001b[38;5;241;43m=\u001b[39;49m\u001b[43myscale\u001b[49m\n\u001b[1;32m    166\u001b[0m \u001b[43m                \u001b[49m\u001b[43m)\u001b[49m\n\u001b[1;32m    167\u001b[0m     plotEnginesDt(params\n\u001b[1;32m    168\u001b[0m                 , csvDict\u001b[38;5;241m=\u001b[39mcsvDict\n\u001b[1;32m    169\u001b[0m                 , yname\u001b[38;5;241m=\u001b[39m\u001b[38;5;124m'\u001b[39m\u001b[38;5;124mtimeRatio\u001b[39m\u001b[38;5;124m'\u001b[39m\n\u001b[0;32m   (...)\u001b[0m\n\u001b[1;32m    173\u001b[0m                 , yscale\u001b[38;5;241m=\u001b[39myscale\n\u001b[1;32m    174\u001b[0m                 )\n\u001b[1;32m    175\u001b[0m     plotEnginesTime(params\n\u001b[1;32m    176\u001b[0m                 , csvDict\u001b[38;5;241m=\u001b[39mcsvDict\n\u001b[1;32m    177\u001b[0m                 , yname\u001b[38;5;241m=\u001b[39myname\n\u001b[0;32m   (...)\u001b[0m\n\u001b[1;32m    180\u001b[0m                 , yscale\u001b[38;5;241m=\u001b[39myscale\n\u001b[1;32m    181\u001b[0m                 )\n",
      "File \u001b[0;32m~/simulation_benchmark/tools/boxes/plot_helpers.py:60\u001b[0m, in \u001b[0;36mplotEnginesDt\u001b[0;34m(params, yname, axscale, ayscale, csvDict, legend, skipDart, xname, xlabel, ylabel, xlim, ylim, xscale, yscale, title)\u001b[0m\n\u001b[1;32m     58\u001b[0m params[\u001b[38;5;124m'\u001b[39m\u001b[38;5;124mengine\u001b[39m\u001b[38;5;124m'\u001b[39m] \u001b[38;5;241m=\u001b[39m e\n\u001b[1;32m     59\u001b[0m ii \u001b[38;5;241m=\u001b[39m np\u001b[38;5;241m.\u001b[39marray(\u001b[38;5;28mlist\u001b[39m(query(csvDict, params)))\n\u001b[0;32m---> 60\u001b[0m xdata[e] \u001b[38;5;241m=\u001b[39m \u001b[43mcsvDict\u001b[49m\u001b[43m[\u001b[49m\u001b[43mxname\u001b[49m\u001b[43m]\u001b[49m\u001b[43m[\u001b[49m\u001b[43mii\u001b[49m\u001b[43m]\u001b[49m\n\u001b[1;32m     61\u001b[0m ydata[e] \u001b[38;5;241m=\u001b[39m csvDict[yname][ii]\n\u001b[1;32m     62\u001b[0m color \u001b[38;5;241m=\u001b[39m engines[e][\u001b[38;5;241m1\u001b[39m][\u001b[38;5;241m0\u001b[39m]\n",
      "\u001b[0;31mIndexError\u001b[0m: arrays used as indices must be of integer (or boolean) type"
     ]
    },
    {
     "data": {
      "text/plain": [
       "<Figure size 640x480 with 0 Axes>"
      ]
     },
     "metadata": {},
     "output_type": "display_data"
    }
   ],
   "source": [
    "ph.plot3TimeDt({'classname': 'DtComplex'}\n",
    "          , csvDict=boxes_dt\n",
    "          , yname='linPositionErr_maxAbs'\n",
    "          , title='Parabolic position error'\n",
    "          )"
   ]
  },
  {
   "cell_type": "code",
   "execution_count": null,
   "id": "a53968f3",
   "metadata": {},
   "outputs": [],
   "source": [
    "ph.plot3TimeDt({'classname': 'DtComplex'}\n",
    "          , csvDict=boxes_dt\n",
    "          , yname='linVelocityErr_maxAbs'\n",
    "          , title='Linear velocity error'\n",
    "          )"
   ]
  },
  {
   "cell_type": "code",
   "execution_count": null,
   "id": "b4db1008",
   "metadata": {},
   "outputs": [],
   "source": [
    "ph.plot3TimeDt({'classname': 'DtComplex'}\n",
    "          , csvDict=boxes_dt\n",
    "          , yname='angMomentumErr_maxAbs'\n",
    "          , title='Angular momentum error'\n",
    "          , skipDart=True\n",
    "          )"
   ]
  },
  {
   "cell_type": "markdown",
   "id": "ab33ec7b",
   "metadata": {},
   "source": [
    "\n",
    "### Test: multiple boxes, nonlinear trajectory\n",
    "\n",
    "This test uses multiple rigid bodies spaced widely apart to identify the effect of on computational speed for each physics engine. Identical initial conditions are given to each box."
   ]
  },
  {
   "cell_type": "code",
   "execution_count": null,
   "id": "22c0f65b",
   "metadata": {},
   "outputs": [],
   "source": [
    "boxes_model_count = csv_dictionary.makeCsvDictOfArrays('test_results/BENCHMARK_boxes_model_count.csv')\n",
    "print(boxes_model_count.keys())\n",
    "print(set(boxes_model_count['engine']))\n",
    "print(set(boxes_model_count['linPositionErr_maxAbs']))\n",
    "print(set(boxes_model_count['collision']))\n",
    "\n",
    "csvDict = boxes_model_count\n",
    "yname = 'timeRatio'\n",
    "ylabel = 'Time ratio (real / sim)'\n",
    "ylim = (-0.40000000000000036, 8.4000000000000004)\n",
    "\n",
    "ph.plotEnginesModelCount({'classname': 'Boxes'}\n",
    "                  , csvDict=csvDict\n",
    "                  , yname=yname\n",
    "                  , ylabel=ylabel\n",
    "                  , title='Computational time with multiple boxes'\n",
    "                )\n",
    "\n",
    "ph.plotEnginesModelCount({'classname': 'Boxes', 'collision': 1.0}\n",
    "                  , csvDict=csvDict\n",
    "                  , yname=yname\n",
    "                  , ylabel=ylabel\n",
    "                  , title='Computational time with collision-checking'\n",
    "                   )\n",
    "\n",
    "ph.plotEnginesModelCount({'classname': 'Boxes', 'collision': 0.0}\n",
    "                  , csvDict=csvDict\n",
    "                  , yname=yname\n",
    "                  , ylabel=ylabel\n",
    "                  , ylim=ylim\n",
    "                  , title='Computational time without collision-checking'\n",
    "                   )"
   ]
  }
 ],
 "metadata": {
  "kernelspec": {
   "display_name": "Python 3",
   "language": "python",
   "name": "python3"
  },
  "language_info": {
   "codemirror_mode": {
    "name": "ipython",
    "version": 3
   },
   "file_extension": ".py",
   "mimetype": "text/x-python",
   "name": "python",
   "nbconvert_exporter": "python",
   "pygments_lexer": "ipython3",
   "version": "3.10.12"
  }
 },
 "nbformat": 4,
 "nbformat_minor": 5
}
